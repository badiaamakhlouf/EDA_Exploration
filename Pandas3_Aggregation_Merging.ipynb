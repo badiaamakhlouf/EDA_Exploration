{
 "cells": [
  {
   "cell_type": "code",
   "execution_count": 1,
   "id": "23dbfb33",
   "metadata": {},
   "outputs": [],
   "source": [
    "import pandas as pd\n",
    "import numpy as np"
   ]
  },
  {
   "cell_type": "markdown",
   "id": "9179d2ca",
   "metadata": {},
   "source": [
    "# Pandas 3: Data Aggregation and Merging \n",
    "## Part 3.1:  Data Aggregation\n",
    "\n",
    "### Aggregation: \n",
    "  - Summary statistics\n",
    "  - GroupBy"
   ]
  },
  {
   "cell_type": "markdown",
   "id": "e14e1586",
   "metadata": {},
   "source": [
    "### 1- Aggregating Statistics\n",
    "<img src=\"Redi_img/img1.png\" width=\"300\"> \n"
   ]
  },
  {
   "cell_type": "code",
   "execution_count": null,
   "id": "2b9aa52e",
   "metadata": {},
   "outputs": [],
   "source": [
    "a=[[76,52,57], [81, 73, 97], [90, 92, 80], [np.NaN, 73, 92], [81, np.NaN, 52], [65, 95, 61]]\n",
    "df=pd.DataFrame(a, columns=['A','B', 'C'])\n",
    "df"
   ]
  },
  {
   "cell_type": "markdown",
   "id": "c1bf71a3",
   "metadata": {},
   "source": [
    "### Count"
   ]
  },
  {
   "cell_type": "code",
   "execution_count": null,
   "id": "aa7e4069",
   "metadata": {},
   "outputs": [],
   "source": [
    "## Single Column\n",
    "df['A'].count()"
   ]
  },
  {
   "cell_type": "code",
   "execution_count": null,
   "id": "b311196d",
   "metadata": {},
   "outputs": [],
   "source": [
    "## Multiple Column\n",
    "df[['A','C']].count()"
   ]
  },
  {
   "cell_type": "code",
   "execution_count": null,
   "id": "aee628b7",
   "metadata": {},
   "outputs": [],
   "source": [
    "## All columns - Column-wise\n",
    "df.count()"
   ]
  },
  {
   "cell_type": "markdown",
   "id": "e709041f",
   "metadata": {},
   "source": [
    "### Min"
   ]
  },
  {
   "cell_type": "code",
   "execution_count": null,
   "id": "c1da8dec",
   "metadata": {},
   "outputs": [],
   "source": [
    "## Single Column\n",
    "df['A'].min()"
   ]
  },
  {
   "cell_type": "code",
   "execution_count": null,
   "id": "1b804070",
   "metadata": {},
   "outputs": [],
   "source": [
    "## Multiple Column\n",
    "df[['A','C']].min()"
   ]
  },
  {
   "cell_type": "code",
   "execution_count": null,
   "id": "71831a86",
   "metadata": {},
   "outputs": [],
   "source": [
    "## All columns - Column-wise\n",
    "df.min()"
   ]
  },
  {
   "cell_type": "markdown",
   "id": "16f83b5e",
   "metadata": {},
   "source": [
    "### Max "
   ]
  },
  {
   "cell_type": "code",
   "execution_count": null,
   "id": "4480383b",
   "metadata": {},
   "outputs": [],
   "source": [
    "## Single Column\n",
    "df['A'].max()"
   ]
  },
  {
   "cell_type": "code",
   "execution_count": null,
   "id": "d653988e",
   "metadata": {},
   "outputs": [],
   "source": [
    "## Multiple Column\n",
    "df[['A','C']].max()"
   ]
  },
  {
   "cell_type": "code",
   "execution_count": null,
   "id": "1e5c9788",
   "metadata": {},
   "outputs": [],
   "source": [
    "## All columns - Column-wise\n",
    "df.max()"
   ]
  },
  {
   "cell_type": "markdown",
   "id": "768b3157",
   "metadata": {},
   "source": [
    "### Sum"
   ]
  },
  {
   "cell_type": "code",
   "execution_count": null,
   "id": "a1a760af",
   "metadata": {},
   "outputs": [],
   "source": [
    "## Single Column\n",
    "df['A'].sum()"
   ]
  },
  {
   "cell_type": "code",
   "execution_count": null,
   "id": "ccc3ba0f",
   "metadata": {},
   "outputs": [],
   "source": [
    "## Multiple Column\n",
    "df[['A','C']].sum()"
   ]
  },
  {
   "cell_type": "code",
   "execution_count": null,
   "id": "1bc2f5bc",
   "metadata": {},
   "outputs": [],
   "source": [
    "## All columns - Column-wise\n",
    "df.sum()"
   ]
  },
  {
   "cell_type": "markdown",
   "id": "f47a2d02",
   "metadata": {},
   "source": [
    "### Variance"
   ]
  },
  {
   "cell_type": "code",
   "execution_count": null,
   "id": "698e88a0",
   "metadata": {},
   "outputs": [],
   "source": [
    "## Single Column\n",
    "df['A'].var()"
   ]
  },
  {
   "cell_type": "code",
   "execution_count": null,
   "id": "b50714ad",
   "metadata": {},
   "outputs": [],
   "source": [
    "## Multiple Column\n",
    "df[['A','C']].var()"
   ]
  },
  {
   "cell_type": "code",
   "execution_count": null,
   "id": "3373d6b6",
   "metadata": {},
   "outputs": [],
   "source": [
    "## All columns - Column-wise\n",
    "df.var()"
   ]
  },
  {
   "cell_type": "markdown",
   "id": "9e10f8df",
   "metadata": {},
   "source": [
    "### Standard Deviation"
   ]
  },
  {
   "cell_type": "code",
   "execution_count": null,
   "id": "b2bdbe5c",
   "metadata": {},
   "outputs": [],
   "source": [
    "## Single Column\n",
    "df['A'].std()"
   ]
  },
  {
   "cell_type": "code",
   "execution_count": null,
   "id": "ddbab68c",
   "metadata": {},
   "outputs": [],
   "source": [
    "## Multiple Column\n",
    "df[['A','C']].std()"
   ]
  },
  {
   "cell_type": "code",
   "execution_count": null,
   "id": "ca42bff9",
   "metadata": {},
   "outputs": [],
   "source": [
    "## All columns - Column-wise\n",
    "df.std()"
   ]
  },
  {
   "cell_type": "markdown",
   "id": "fef0c0dd",
   "metadata": {},
   "source": [
    "### Mean"
   ]
  },
  {
   "cell_type": "code",
   "execution_count": null,
   "id": "c324359a",
   "metadata": {},
   "outputs": [],
   "source": [
    "## Single Column\n",
    "df['A'].mean()"
   ]
  },
  {
   "cell_type": "code",
   "execution_count": null,
   "id": "59e0296a",
   "metadata": {},
   "outputs": [],
   "source": [
    "## Multiple Column\n",
    "df[['A','C']].mean()"
   ]
  },
  {
   "cell_type": "code",
   "execution_count": null,
   "id": "9aced557",
   "metadata": {},
   "outputs": [],
   "source": [
    "## All columns - Column-wise\n",
    "df.mean()"
   ]
  },
  {
   "cell_type": "markdown",
   "id": "dd599b8c",
   "metadata": {},
   "source": [
    "### Median"
   ]
  },
  {
   "cell_type": "code",
   "execution_count": null,
   "id": "d7c98b95",
   "metadata": {},
   "outputs": [],
   "source": [
    "## Single Column\n",
    "df['A'].median()"
   ]
  },
  {
   "cell_type": "code",
   "execution_count": null,
   "id": "0c0a53b7",
   "metadata": {},
   "outputs": [],
   "source": [
    "## Multiple Column\n",
    "df[['A','C']].median()"
   ]
  },
  {
   "cell_type": "code",
   "execution_count": null,
   "id": "0b4f5bfb",
   "metadata": {},
   "outputs": [],
   "source": [
    "## All columns - Column-wise\n",
    "df.median()"
   ]
  },
  {
   "cell_type": "markdown",
   "id": "26759b75",
   "metadata": {},
   "source": [
    "### Mode"
   ]
  },
  {
   "cell_type": "code",
   "execution_count": null,
   "id": "b32f081e",
   "metadata": {},
   "outputs": [],
   "source": [
    "## Single Column\n",
    "df['A'].mode()"
   ]
  },
  {
   "cell_type": "code",
   "execution_count": null,
   "id": "c3df588b",
   "metadata": {},
   "outputs": [],
   "source": [
    "df['A'].mode().iloc[0]"
   ]
  },
  {
   "cell_type": "code",
   "execution_count": null,
   "id": "5e7462e0",
   "metadata": {},
   "outputs": [],
   "source": [
    "## Multiple Column\n",
    "df[['A','B']].mode()"
   ]
  },
  {
   "cell_type": "code",
   "execution_count": null,
   "id": "004547fa",
   "metadata": {},
   "outputs": [],
   "source": [
    "## All columns - Column-wise\n",
    "df.mode()"
   ]
  },
  {
   "cell_type": "markdown",
   "id": "89a01797",
   "metadata": {},
   "source": [
    "### Statistical summary"
   ]
  },
  {
   "cell_type": "code",
   "execution_count": null,
   "id": "94629965",
   "metadata": {},
   "outputs": [],
   "source": [
    "## Single Column\n",
    "df['A'].describe()"
   ]
  },
  {
   "cell_type": "code",
   "execution_count": null,
   "id": "eee98cb9",
   "metadata": {},
   "outputs": [],
   "source": [
    "## Multiple Column\n",
    "df[['A','C']].describe()"
   ]
  },
  {
   "cell_type": "code",
   "execution_count": null,
   "id": "95739759",
   "metadata": {},
   "outputs": [],
   "source": [
    "df[['A','C']].describe().transpose()"
   ]
  },
  {
   "cell_type": "code",
   "execution_count": null,
   "id": "fcdc7909",
   "metadata": {},
   "outputs": [],
   "source": [
    "## All columns - Column-wise\n",
    "df.describe().transpose()"
   ]
  },
  {
   "cell_type": "markdown",
   "id": "c05e4197",
   "metadata": {},
   "source": [
    "### agg() function "
   ]
  },
  {
   "cell_type": "code",
   "execution_count": null,
   "id": "c92a26f3",
   "metadata": {},
   "outputs": [],
   "source": [
    "df.agg(['sum','min'])"
   ]
  },
  {
   "cell_type": "code",
   "execution_count": null,
   "id": "b16831d5",
   "metadata": {},
   "outputs": [],
   "source": [
    "df.agg(['sum','min'], axis=1)"
   ]
  },
  {
   "cell_type": "code",
   "execution_count": null,
   "id": "8ec7fd27",
   "metadata": {},
   "outputs": [],
   "source": [
    "df.agg({'A':['sum','min'], 'B':['min', 'max']})"
   ]
  },
  {
   "cell_type": "markdown",
   "id": "af57bcb2",
   "metadata": {},
   "source": [
    "## All columns - Row-wise"
   ]
  },
  {
   "cell_type": "code",
   "execution_count": null,
   "id": "d2454e49",
   "metadata": {},
   "outputs": [],
   "source": [
    "df.sum(axis=1)"
   ]
  },
  {
   "cell_type": "code",
   "execution_count": null,
   "id": "c149eabe",
   "metadata": {},
   "outputs": [],
   "source": [
    "df.mean(axis=1)"
   ]
  },
  {
   "cell_type": "code",
   "execution_count": null,
   "id": "d996c312",
   "metadata": {},
   "outputs": [],
   "source": [
    "df.loc[2:3].mean(axis=1)"
   ]
  },
  {
   "cell_type": "code",
   "execution_count": null,
   "id": "4363f8d5",
   "metadata": {},
   "outputs": [],
   "source": [
    "df.iloc[3:5].mean(axis=1)"
   ]
  },
  {
   "cell_type": "markdown",
   "id": "d64346ff",
   "metadata": {},
   "source": [
    "### 2- Groupby\n",
    "- Aggregating statistics grouped by category\n",
    "- The groupby() method is applied on one or more columns to make a group per category.\n",
    "\n",
    "<img src=\"Redi_img/img2.png\" width=\"500\"> "
   ]
  },
  {
   "cell_type": "code",
   "execution_count": null,
   "id": "3c5a21d3",
   "metadata": {},
   "outputs": [],
   "source": [
    "columns=['item', 'type', 'color', 'quantity']\n",
    "data=[ ('S-56', 'A', 'Red', 234), ('S-57', 'A', 'Blue', 432),\n",
    "      ('S-58', 'A', 'Orange', 902), ('S-59', 'A', 'Red', 340), \n",
    "      ('S-60', 'B', 'Yellow', 253), ('S-61', 'B', 'Red', 232), \n",
    "      ('S-62', 'C', 'Green', 1042), ('S-63', 'C', 'Green', 1204),\n",
    "      ('S-64', 'B', 'Yellow', 432), ('S-65', 'C', 'Green', 985) ]\n",
    "items=pd.DataFrame(data, columns=columns)\n",
    "items"
   ]
  },
  {
   "cell_type": "markdown",
   "id": "6db09b8c",
   "metadata": {},
   "source": [
    "- In a store, there are many items..\n",
    "- An item has a Type and a Color ..\n",
    "- We have a dataset of items, with the quantity of each item..\n"
   ]
  },
  {
   "cell_type": "markdown",
   "id": "bed43abf",
   "metadata": {},
   "source": [
    "### Question 1 :  find the sum of quantities for each Type ?\n",
    "**Approach:**\n",
    "- Split the dataset into groups (per Type)\n",
    "- Apply sum() function to each group independently\n",
    "- Combine the results into a data structure"
   ]
  },
  {
   "cell_type": "code",
   "execution_count": null,
   "id": "8ac7d093",
   "metadata": {},
   "outputs": [],
   "source": [
    "items.groupby('type').sum()"
   ]
  },
  {
   "cell_type": "markdown",
   "id": "000b4a6c",
   "metadata": {},
   "source": [
    "### Question 2:  find the sum of quantities for each Color ?"
   ]
  },
  {
   "cell_type": "code",
   "execution_count": null,
   "id": "4ff73814",
   "metadata": {},
   "outputs": [],
   "source": [
    "items.groupby('color').sum()"
   ]
  },
  {
   "cell_type": "markdown",
   "id": "8d1ccaf3",
   "metadata": {},
   "source": [
    "### Question 3:  How many items are there of each Type?"
   ]
  },
  {
   "cell_type": "code",
   "execution_count": null,
   "id": "5a0755ae",
   "metadata": {},
   "outputs": [],
   "source": [
    "items.groupby('type').count()"
   ]
  },
  {
   "cell_type": "code",
   "execution_count": null,
   "id": "ac3a3a14",
   "metadata": {},
   "outputs": [],
   "source": [
    "items.groupby('type').count()['item']"
   ]
  },
  {
   "cell_type": "code",
   "execution_count": null,
   "id": "957e6119",
   "metadata": {},
   "outputs": [],
   "source": [
    "items.groupby('type').count()['item'].reset_index()"
   ]
  },
  {
   "cell_type": "markdown",
   "id": "b7ba1181",
   "metadata": {},
   "source": [
    "### Question 4:  How many items are there of each Type?\n",
    "value_counts is a convenient shortcut to count the number of entries in each category"
   ]
  },
  {
   "cell_type": "code",
   "execution_count": null,
   "id": "0feb35a1",
   "metadata": {},
   "outputs": [],
   "source": [
    "items['type'].value_counts()"
   ]
  },
  {
   "cell_type": "code",
   "execution_count": null,
   "id": "1d65151f",
   "metadata": {},
   "outputs": [],
   "source": [
    "items.groupby('type').count()['item']"
   ]
  },
  {
   "cell_type": "markdown",
   "id": "48b53b35",
   "metadata": {},
   "source": [
    "### Question 5: How many items are there for each (Type,Color ) combination ?"
   ]
  },
  {
   "cell_type": "code",
   "execution_count": null,
   "id": "59773afa",
   "metadata": {},
   "outputs": [],
   "source": [
    "items.groupby(['type','color']).count()"
   ]
  },
  {
   "cell_type": "code",
   "execution_count": null,
   "id": "c94b23fd",
   "metadata": {},
   "outputs": [],
   "source": [
    "items.groupby(['type','color']).count()['item'].reset_index()"
   ]
  },
  {
   "cell_type": "markdown",
   "id": "04cd708b",
   "metadata": {},
   "source": [
    "### Question 6: Find the sum of quantities for each (Type,Color ) combination ?"
   ]
  },
  {
   "cell_type": "code",
   "execution_count": null,
   "id": "3cb467f4",
   "metadata": {},
   "outputs": [],
   "source": [
    "items.groupby(['type','color']).sum()"
   ]
  },
  {
   "cell_type": "code",
   "execution_count": null,
   "id": "ffc2fffe",
   "metadata": {},
   "outputs": [],
   "source": [
    "items.groupby(['type','color']).sum().reset_index()"
   ]
  },
  {
   "cell_type": "markdown",
   "id": "3df6ea5e",
   "metadata": {},
   "source": [
    "We can also choose to include NA in group keys or not by setting `dropna` parameter, \n",
    "the default setting is `True`\n"
   ]
  },
  {
   "cell_type": "code",
   "execution_count": null,
   "id": "21a3cb41",
   "metadata": {},
   "outputs": [],
   "source": [
    "l=[[1, 2, 3], [1, None, 4], [2, 1, 3], [1, 2, 2]]\n",
    "df=pd.DataFrame(l, columns=[\"a\", \"b\", \"c\"])\n",
    "df"
   ]
  },
  {
   "cell_type": "code",
   "execution_count": null,
   "id": "1e0bb097",
   "metadata": {},
   "outputs": [],
   "source": [
    "df.groupby(by=[\"b\"]).sum()"
   ]
  },
  {
   "cell_type": "code",
   "execution_count": null,
   "id": "6d8d8ab2",
   "metadata": {},
   "outputs": [],
   "source": [
    "df.groupby(by=[\"b\"], dropna=False).sum()"
   ]
  },
  {
   "cell_type": "markdown",
   "id": "998e2f38",
   "metadata": {},
   "source": [
    "## Part 3.2:  Data Merging\n",
    "- **Concat**\n",
    "   - Vertically\n",
    "   - Horizontally\n",
    "   \n",
    "   \n",
    "<img src=\"Redi_img/img3.png\" width=\"400\"> \n",
    "   \n",
    "- **Merge**\n",
    "   - Inner\n",
    "   - Left\n",
    "   - Right\n",
    "   - Outer\n",
    "   \n",
    "<img src=\"Redi_img/img4.png\" width=\"400\"> \n",
    "\n"
   ]
  },
  {
   "cell_type": "markdown",
   "id": "9ab8f2bd",
   "metadata": {},
   "source": [
    "### 1- Concat \n",
    "Concatenate pandas DataFrames along a particular axis \n",
    "<img src=\"Redi_img/img5.png\" width=\"500\"> \n"
   ]
  },
  {
   "cell_type": "markdown",
   "id": "0be2fcd0",
   "metadata": {},
   "source": [
    "#### 1.1- Concat - vertical (axis=0)"
   ]
  },
  {
   "cell_type": "code",
   "execution_count": null,
   "id": "abc66e9a",
   "metadata": {},
   "outputs": [],
   "source": [
    "columns=['Department', 'Year', 'Budget']\n",
    "d1=[ ('Operations', 2019, 35000), ('Research', 2019, 45000),\n",
    "     ('Development', 2019, 45000), ('Human Resources', 2019, 25800)]\n",
    "df1=pd.DataFrame(d1,columns=columns)\n",
    "df1"
   ]
  },
  {
   "cell_type": "code",
   "execution_count": null,
   "id": "13829bb5",
   "metadata": {},
   "outputs": [],
   "source": [
    "d2=[ ('Operations', 2020, 36500), ('Research', 2020, 44000),\n",
    "     ('Development', 2020, 55000), ('Human Resources', 2020, 37500)]\n",
    "df2=pd.DataFrame(d2,columns=columns)\n",
    "df2"
   ]
  },
  {
   "cell_type": "code",
   "execution_count": null,
   "id": "be84662d",
   "metadata": {},
   "outputs": [],
   "source": [
    "## check index\n",
    "df=pd.concat([df1, df2])\n",
    "df"
   ]
  },
  {
   "cell_type": "code",
   "execution_count": null,
   "id": "b5fdb984",
   "metadata": {},
   "outputs": [],
   "source": [
    "df=pd.concat([df1, df2], ignore_index=True)\n",
    "df"
   ]
  },
  {
   "cell_type": "code",
   "execution_count": null,
   "id": "7a0ece79",
   "metadata": {},
   "outputs": [],
   "source": [
    "columns= ['Department', 'Year', 'Budget', 'Manager']\n",
    "d3=[ ('Operations', 2021, 44000, 'Dirk'), ('Research', 2021, 52000, 'Elisa'),\n",
    "     ('Development', 2021, 37000, 'Jan'), ('Human Resources', 2021, 40500, 'Mary')]\n",
    "df3=pd.DataFrame(d3, columns=columns)\n",
    "df3"
   ]
  },
  {
   "cell_type": "code",
   "execution_count": null,
   "id": "a6675a9f",
   "metadata": {},
   "outputs": [],
   "source": [
    "df=pd.concat([df1, df2, df3], ignore_index=True)\n",
    "df"
   ]
  },
  {
   "cell_type": "markdown",
   "id": "fe3048ed",
   "metadata": {},
   "source": [
    "#### 1.2- Concat - horizontal (axis=1)\n",
    "<img src=\"Redi_img/img6.png\" width=\"400\"> "
   ]
  },
  {
   "cell_type": "code",
   "execution_count": null,
   "id": "422f07ea",
   "metadata": {},
   "outputs": [],
   "source": [
    "index=['Math', 'Physics', 'English']\n",
    "df1= {'S1':[65, 80, 85], 'S2':[70, 90, 76] }\n",
    "df1=pd.DataFrame(df1, index=index)\n",
    "df1"
   ]
  },
  {
   "cell_type": "code",
   "execution_count": null,
   "id": "9715f22b",
   "metadata": {},
   "outputs": [],
   "source": [
    "df2= {'S3':[53, 84, 95], 'S4':[72, 92, 63] }\n",
    "df2=pd.DataFrame(df2, index=index)\n",
    "df2"
   ]
  },
  {
   "cell_type": "code",
   "execution_count": null,
   "id": "32d6e2ca",
   "metadata": {},
   "outputs": [],
   "source": [
    "df=pd.concat([df1, df2], axis=1)\n",
    "df"
   ]
  },
  {
   "cell_type": "code",
   "execution_count": null,
   "id": "0fe03bd1",
   "metadata": {},
   "outputs": [],
   "source": [
    "index=['Math', 'Physics', 'History', 'English']\n",
    "df3= {'S5':[69, 84, 77, 90], 'S6':[85, 72, 52, 69], 'S7':[33, 81, 65, 73]}\n",
    "df3=pd.DataFrame(df3, index=index)\n",
    "df3"
   ]
  },
  {
   "cell_type": "code",
   "execution_count": null,
   "id": "3226a773",
   "metadata": {},
   "outputs": [],
   "source": [
    "df=pd.concat([df1, df2, df3], axis=1)\n",
    "df"
   ]
  },
  {
   "cell_type": "markdown",
   "id": "83162527",
   "metadata": {},
   "source": [
    "### 2- Merge\n",
    "- An operation that combines two dataframes into a new dataframe, by matching one or more columns (aka. keys)  from both input dataframes.\n",
    "- Each row in the new dataframe is a combination of two rows: one from each input dataframes.\n",
    "\n",
    "<img src=\"Redi_img/img7.png\" width=\"600\"> "
   ]
  },
  {
   "cell_type": "markdown",
   "id": "4c112e9b",
   "metadata": {},
   "source": [
    "<img src=\"Redi_img/img8.png\" width=\"600\"> "
   ]
  },
  {
   "cell_type": "code",
   "execution_count": null,
   "id": "f30d65c5",
   "metadata": {},
   "outputs": [],
   "source": [
    "columns=['City', 'Country']\n",
    "df_1=[ ('Munich', 'Germany'), ('Liverpool', 'UK'),\n",
    "     ('Lyon', 'France'), ('Frankfurt', 'Germany'), \n",
    "     ('Napoli', 'Italy'), ('London', 'UK') ]\n",
    "df_1=pd.DataFrame(df_1, columns=columns)\n",
    "df_1"
   ]
  },
  {
   "cell_type": "code",
   "execution_count": null,
   "id": "ffbfae15",
   "metadata": {},
   "outputs": [],
   "source": [
    "columns=['Country', 'Population', 'Area']\n",
    "df_2=[ ('Germany', 83783942, 357588), ('UK', 67886011, 242495),\n",
    "     ('France', 65273511, 543940), ('Italy', 60317116, 301340) ]\n",
    "df_2=pd.DataFrame(df_2, columns=columns)\n",
    "df_2"
   ]
  },
  {
   "cell_type": "code",
   "execution_count": null,
   "id": "f0602e46",
   "metadata": {},
   "outputs": [],
   "source": [
    "df_result = df_1.merge(df_2, on=\"Country\")\n",
    "df_result"
   ]
  },
  {
   "cell_type": "code",
   "execution_count": null,
   "id": "5ff13a35",
   "metadata": {},
   "outputs": [],
   "source": [
    "df_result = pd.merge(df_1, df_2, on=\"Country\")\n",
    "df_result"
   ]
  },
  {
   "cell_type": "markdown",
   "id": "0fa1a271",
   "metadata": {},
   "source": [
    "<img src=\"Redi_img/img9.png\" width=\"700\"> "
   ]
  },
  {
   "cell_type": "markdown",
   "id": "c13d8329",
   "metadata": {},
   "source": [
    "<img src=\"Redi_img/img10.png\" width=\"700\"> "
   ]
  },
  {
   "cell_type": "markdown",
   "id": "1bac2aff",
   "metadata": {},
   "source": [
    "<img src=\"Redi_img/img11.png\" width=\"700\"> "
   ]
  },
  {
   "cell_type": "markdown",
   "id": "e81efdb4",
   "metadata": {},
   "source": [
    "<img src=\"Redi_img/img12.png\" width=\"700\"> "
   ]
  },
  {
   "cell_type": "markdown",
   "id": "0dd06d43",
   "metadata": {},
   "source": [
    "- In the previous example, we have complete match between the two dataframes:\n",
    "- Both dataframes have the same set of countries..\n",
    "- But, what happens when there is no complete match ?!\n",
    "\n",
    "<img src=\"Redi_img/img13.png\" width=\"400\"> \n",
    "\n",
    "\n",
    "- We want to merge these dataframes to know the fathers and mothers of children..\n",
    "- There are some common children in both tables. But also there are non-matching children!\n",
    "- ????? \n"
   ]
  },
  {
   "cell_type": "markdown",
   "id": "5f744cb3",
   "metadata": {},
   "source": [
    "#### There are four types of merge:\n",
    "  - **inner:** take only matching rows from both tables\n",
    "  - **left:** take matching rows from both plus non-matching from left table\n",
    "  - **right:** take matching rows from both plus non-matching from right table\n",
    "  - **outer:** take matching rows plus non-matching from both table\n",
    "\n",
    "<img src=\"Redi_img/img14.png\" width=\"600\"> \n"
   ]
  },
  {
   "cell_type": "code",
   "execution_count": null,
   "id": "6d49ce37",
   "metadata": {},
   "outputs": [],
   "source": [
    "data1=[('Steve', 'Frank'), ('Greg', 'Kim'), ('Greg', 'Phil'), ('Frank', 'Andy'), ('Frank', 'Rob')]\n",
    "dff=pd.DataFrame(data1, columns= ['Father', 'Child'])\n",
    "dff"
   ]
  },
  {
   "cell_type": "code",
   "execution_count": null,
   "id": "4dbc8f93",
   "metadata": {},
   "outputs": [],
   "source": [
    "data2=[('Lisa', 'Mary'), ('Lisa', 'Greg'), ('Anne', 'Kim'),\n",
    "       ('Anne', 'Phil'), ('Mary', 'Andy'), ('Mary', 'Rob')]\n",
    "dfm=pd.DataFrame(data2, columns= ['Mother', 'Child'])\n",
    "dfm"
   ]
  },
  {
   "cell_type": "markdown",
   "id": "31270fda",
   "metadata": {},
   "source": [
    "#### a. Merge - how='inner'\n",
    "- Only matching rows from both tables are included\n",
    "- Non-matching rows are excluded\n",
    "\n",
    "<img src=\"Redi_img/img15.png\" width=\"300\"> \n"
   ]
  },
  {
   "cell_type": "code",
   "execution_count": null,
   "id": "067cbdef",
   "metadata": {},
   "outputs": [],
   "source": [
    "dff.merge(dfm, on='Child')"
   ]
  },
  {
   "cell_type": "markdown",
   "id": "83656e5e",
   "metadata": {},
   "source": [
    "<img src=\"Redi_img/img16.png\" width=\"300\"> \n"
   ]
  },
  {
   "cell_type": "markdown",
   "id": "51fa6a2d",
   "metadata": {},
   "source": [
    "#### b. Merge - how='left'\n",
    "<img src=\"Redi_img/img17.png\" width=\"300\"> \n",
    "\n",
    "- Matching rows from both tables are included\n",
    "- Non-matching rows from **left** table are **included**\n",
    "- Non-matching rows from **right** table are **excluded**"
   ]
  },
  {
   "cell_type": "code",
   "execution_count": null,
   "id": "a87206a2",
   "metadata": {},
   "outputs": [],
   "source": [
    "dff.merge(dfm, on='Child', how='left')"
   ]
  },
  {
   "cell_type": "markdown",
   "id": "3b08143e",
   "metadata": {},
   "source": [
    "<img src=\"Redi_img/img18.png\" width=\"300\"> "
   ]
  },
  {
   "cell_type": "markdown",
   "id": "55804a89",
   "metadata": {},
   "source": [
    "#### c. Merge - how='right'\n",
    "- Matching rows from both tables are included\n",
    "- Non-matching rows from left table are excluded\n",
    "- Non-matching rows from right table are included\n",
    "\n",
    "<img src=\"Redi_img/img19.png\" width=\"300\"> "
   ]
  },
  {
   "cell_type": "code",
   "execution_count": null,
   "id": "7f1fbe48",
   "metadata": {},
   "outputs": [],
   "source": [
    "dff.merge(dfm, on='Child', how='right')"
   ]
  },
  {
   "cell_type": "markdown",
   "id": "41a7aa7a",
   "metadata": {},
   "source": [
    "<img src=\"Redi_img/img20.png\" width=\"300\"> "
   ]
  },
  {
   "attachments": {},
   "cell_type": "markdown",
   "id": "d592f83f",
   "metadata": {},
   "source": [
    "#### d. Merge - how='outer'\n",
    "- Matching rows from both tables are included\n",
    "- Non-matching rows from **left** table are **included**\n",
    "- Non-matching rows from **right** table are **included**\n",
    "<img src=\"Redi_img/img21.png\" width=\"300\"> "
   ]
  },
  {
   "cell_type": "code",
   "execution_count": null,
   "id": "79349725",
   "metadata": {},
   "outputs": [],
   "source": [
    "dff.merge(dfm, on='Child', how='outer')"
   ]
  },
  {
   "cell_type": "markdown",
   "id": "2999f8a1",
   "metadata": {},
   "source": [
    "<img src=\"Redi_img/img22.png\" width=\"300\"> "
   ]
  },
  {
   "attachments": {},
   "cell_type": "markdown",
   "id": "31538d4a",
   "metadata": {},
   "source": [
    "####  e. Merge summary \n",
    "- **inner join**\n",
    "  - only matching rows will be retained, \n",
    "  - rows in the left DataFrame without a match in the key column of the right DataFrame will be discarded.\n",
    "  - rows in the right DataFrame without a match in the key column of the left DataFrame will be discarded.\n",
    "- **left join** \n",
    "  - all rows from the left DataFrame will be retained, \n",
    "  - rows in the right DataFrame without a match in the key column of the left DataFrame will be discarded.\n",
    "- **right join**\n",
    "  - all rows from the right DataFrame will be retained, \n",
    "  - rows in the left DataFrame without a match in the key column of the right DataFrame will be discarded.\n",
    "- **outer  join**\n",
    "  - all rows, matching and non-matching, from both DataFrame will be retained, \n",
    "\n",
    "<img src=\"Redi_img/img23.png\" width=\"600\"> "
   ]
  },
  {
   "attachments": {},
   "cell_type": "markdown",
   "id": "33ef8240",
   "metadata": {},
   "source": [
    "#### f. Merge- columns of different names: \n",
    "- In previous examples, we merged tables using columns with the same name (Country, Child).\n",
    "- We can also merge tables using columns of different names\n"
   ]
  },
  {
   "cell_type": "code",
   "execution_count": null,
   "id": "fd96fece",
   "metadata": {},
   "outputs": [],
   "source": [
    "columns=['Name', 'Age', 'Income']\n",
    "data3=[('Andy', 27, 21), ('Rob', 25, 15), ('Mary', 55, 42), ('Anne', 50, 35),\n",
    "       ('Phil', 26, 30), ('Greg', 50, 40), ('Frank', 57, 20), ('Kim', 30, 41), \n",
    "        ('Mike', 85, 35), ('Lisa', 75, 87), ('Steve', 80, 23)]\n",
    "dfp=pd.DataFrame(data3, columns=columns)\n",
    "dfp"
   ]
  },
  {
   "cell_type": "code",
   "execution_count": null,
   "id": "a060291f",
   "metadata": {},
   "outputs": [],
   "source": [
    "df=dfp.merge(dff, left_on='Name', right_on='Child')\n",
    "df"
   ]
  },
  {
   "attachments": {},
   "cell_type": "markdown",
   "id": "0ff9b561",
   "metadata": {},
   "source": [
    "- In previous examples, we merged tables using one column (one key)\n",
    "- We can also merge tables using multiple columns (keys)"
   ]
  },
  {
   "cell_type": "code",
   "execution_count": null,
   "id": "8b459423",
   "metadata": {},
   "outputs": [],
   "source": [
    "columns=['item', 'type', 'color', 'quantity']\n",
    "d1=[ ('S-56', 'A', 'Red', 234), ('S-57', 'A', 'Blue', 432),\n",
    "      ('S-58', 'A', 'Orange', 902), ('S-59', 'A', 'Red', 340), \n",
    "      ('S-60', 'B', 'Yellow', 253), ('S-61', 'B', 'Red', 232), \n",
    "      ('S-62', 'C', 'Green', 1042), ('S-63', 'C', 'Green', 1204),\n",
    "      ('S-64', 'B', 'Yellow', 432), ('S-65', 'C', 'Green', 985) ]\n",
    "items=pd.DataFrame(d1, columns=columns)\n",
    "items"
   ]
  },
  {
   "cell_type": "code",
   "execution_count": null,
   "id": "fba382eb",
   "metadata": {},
   "outputs": [],
   "source": [
    "d2=[('A', 'Red', 34.50), ('A', 'Blue', 53.00),\n",
    "    ('A', 'Orange', 62.25), ('B', 'Yellow', 35.25),\n",
    "    ('B','Red', 23.45), ('C', 'Red', 61.50), \n",
    "    ('C', 'Green', 72.20)]\n",
    "\n",
    "prices=pd.DataFrame(d2, columns=['type', 'color', 'price'])\n",
    "prices"
   ]
  },
  {
   "cell_type": "code",
   "execution_count": null,
   "id": "1e4f660d",
   "metadata": {},
   "outputs": [],
   "source": [
    "df=items.merge(prices, on=['type','color'])\n",
    "df"
   ]
  },
  {
   "cell_type": "markdown",
   "id": "e0060070",
   "metadata": {},
   "source": [
    "<img src=\"Redi_img/img24.png\" width=\"600\"> "
   ]
  },
  {
   "cell_type": "markdown",
   "id": "2365b44c",
   "metadata": {},
   "source": [
    "## Exercise:\n",
    "Find the total price of all items:\n",
    "    sum(quantity * price)\n"
   ]
  },
  {
   "cell_type": "code",
   "execution_count": null,
   "id": "1c303dc6",
   "metadata": {},
   "outputs": [],
   "source": []
  }
 ],
 "metadata": {
  "kernelspec": {
   "display_name": "Python 3 (ipykernel)",
   "language": "python",
   "name": "python3"
  },
  "language_info": {
   "codemirror_mode": {
    "name": "ipython",
    "version": 3
   },
   "file_extension": ".py",
   "mimetype": "text/x-python",
   "name": "python",
   "nbconvert_exporter": "python",
   "pygments_lexer": "ipython3",
   "version": "3.9.17"
  }
 },
 "nbformat": 4,
 "nbformat_minor": 5
}
